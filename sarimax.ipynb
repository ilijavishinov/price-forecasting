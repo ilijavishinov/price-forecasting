{
 "cells": [
  {
   "cell_type": "code",
   "execution_count": null,
   "id": "initial_id",
   "metadata": {
    "collapsed": true
   },
   "outputs": [],
   "source": [
    "import pandas as pd\n",
    "get_ipython().run_line_magic('matplotlib', 'inline')\n",
    "from utils import io\n",
    "from utils import ts_utils\n",
    "import importlib\n",
    "\n",
    "import matplotlib.pyplot as plt\n",
    "import numpy as np\n",
    "import pandas as pd\n",
    "from numpy import sqrt\n",
    "from sklearn.metrics import mean_squared_error\n",
    "from statsmodels.tsa.arima.model import ARIMA\n",
    "from statsmodels.tsa.seasonal import STL\n",
    "from statsmodels.tsa.statespace.sarimax import SARIMAX\n",
    "from statsmodels.tsa.stattools import acf\n",
    "from statsmodels.tsa.stattools import adfuller, pacf\n"
   ]
  },
  {
   "cell_type": "code",
   "execution_count": null,
   "outputs": [],
   "source": [
    "importlib.reload(io)\n",
    "importlib.reload(ts_utils)\n",
    "data_handler = io.DataHandler(data_path = 'data')\n",
    "\n",
    "for bs_area in data_handler.get_bussines_areas():\n",
    "    for region in data_handler.get_regions():\n",
    "        \n",
    "\n",
    "        name = f'{bs_area}_{region}'\n",
    "        full_name = f'{bs_area} {region}'\n",
    "\n",
    "        sales_bus_region = data_handler.get_sales_per_business_area_and_region(business_area = bs_area,\n",
    "                                                                               region = region)\n",
    "        \n",
    "        sales_bus_region = data_handler.add_monthly_financial_info(sales_df = sales_bus_region,\n",
    "                                                                   region = region)\n",
    "\n",
    "        ts_handler = ts_utils.TimeSeriesHandler(name = full_name,\n",
    "                                                df = sales_bus_region,\n",
    "                                                # endog = 'sales_value')\n",
    "                                                endog = 'sales_value', exog = ['MGDP_Index', 'EBIT_Index', 'Revenue_Index'])\n",
    "\n",
    "        ts_handler.determine_orders()\n",
    "        \n",
    "        ts_handler.fit_sarimax(plot_fit = True,\n",
    "                       plot_prediction = True,\n",
    "                       rolling_prediction = True,\n",
    "                       plot_rolling = True)\n",
    "        \n",
    "        \n",
    "        break\n",
    "    break\n"
   ],
   "metadata": {
    "collapsed": false
   },
   "id": "36889feac8f095e8"
  }
 ],
 "metadata": {
  "kernelspec": {
   "display_name": "Python 3",
   "language": "python",
   "name": "python3"
  },
  "language_info": {
   "codemirror_mode": {
    "name": "ipython",
    "version": 2
   },
   "file_extension": ".py",
   "mimetype": "text/x-python",
   "name": "python",
   "nbconvert_exporter": "python",
   "pygments_lexer": "ipython2",
   "version": "2.7.6"
  }
 },
 "nbformat": 4,
 "nbformat_minor": 5
}
