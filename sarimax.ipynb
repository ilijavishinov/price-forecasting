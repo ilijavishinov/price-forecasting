{
 "cells": [
  {
   "cell_type": "code",
   "execution_count": 67,
   "id": "initial_id",
   "metadata": {
    "collapsed": true,
    "ExecuteTime": {
     "end_time": "2024-02-03T19:39:49.898090400Z",
     "start_time": "2024-02-03T19:39:49.889479800Z"
    }
   },
   "outputs": [],
   "source": [
    "import pandas as pd\n",
    "from utils import io\n",
    "from utils import ts_utils\n",
    "import importlib\n",
    "import matplotlib.pyplot as plt\n",
    "import numpy as np\n",
    "import pandas as pd\n",
    "from numpy import sqrt\n",
    "from sklearn.metrics import mean_squared_error\n",
    "from statsmodels.tsa.arima.model import ARIMA\n",
    "from statsmodels.tsa.seasonal import STL\n",
    "from statsmodels.tsa.statespace.sarimax import SARIMAX\n",
    "from statsmodels.tsa.stattools import acf\n",
    "from statsmodels.tsa.stattools import adfuller, pacf\n",
    "\n",
    "get_ipython().run_line_magic('matplotlib', 'inline')\n",
    "import warnings\n",
    "warnings.filterwarnings('ignore')\n",
    "\n"
   ]
  },
  {
   "cell_type": "code",
   "execution_count": 69,
   "outputs": [
    {
     "name": "stdout",
     "output_type": "stream",
     "text": [
      "MGDP_Index\n",
      "EBIT_Index\n",
      "Revenue_Index\n",
      "fleet1\n",
      "fleet2\n",
      "fleet3\n",
      "Copper\n",
      "Gold\n",
      "Iron Ore\n",
      "Nickel\n",
      "Silver\n",
      "Zinc\n"
     ]
    },
    {
     "name": "stderr",
     "output_type": "stream",
     "text": [
      "Exception ignored in: <bound method IPythonKernel._clean_thread_parent_frames of <ipykernel.ipkernel.IPythonKernel object at 0x000001D5BA9E49D0>>\n",
      "Traceback (most recent call last):\n",
      "  File \"D:\\python_projects\\ignize_final\\venv\\Lib\\site-packages\\ipykernel\\ipkernel.py\", line 770, in _clean_thread_parent_frames\n",
      "    def _clean_thread_parent_frames(\n",
      "\n",
      "KeyboardInterrupt: \n",
      "\n",
      "KeyboardInterrupt\n",
      "\n"
     ]
    }
   ],
   "source": [
    "importlib.reload(io)\n",
    "importlib.reload(ts_utils)\n",
    "data_handler = io.DataHandler(data_path = 'data')\n",
    "\n",
    "bs_areas = data_handler.get_bussines_areas()\n",
    "# bs_areas = ['EQ']\n",
    "# bs_areas = ['Consumables']\n",
    "\n",
    "regions = data_handler.get_regions()\n",
    "# regions = [33]\n",
    "# regions = [56]\n",
    "\n",
    "exog_features = [\n",
    "    'MGDP_Index',\n",
    "    'EBIT_Index',\n",
    "    'Revenue_Index',\n",
    "    'fleet1',\n",
    "    'fleet2',\n",
    "    'fleet3',\n",
    "    'Copper',\n",
    "    'Gold',\n",
    "    'Iron Ore',\n",
    "    'Nickel',\n",
    "    'Silver',\n",
    "    'Zinc',\n",
    "]\n",
    "\n",
    "all_models = True\n",
    "\n",
    "for bs_area in bs_areas:\n",
    "    for region in regions: \n",
    "        \n",
    "        if bs_area == 'Consumables' and region == 56:\n",
    "            continue\n",
    "        \n",
    "        name = f'{bs_area}_{region}'\n",
    "        full_name = f'{bs_area} {region}'\n",
    "\n",
    "        sales_bus_region = data_handler.get_sales_per_business_area_and_region(business_area = bs_area,\n",
    "                                                                               region = region)\n",
    "        \n",
    "        sales_bus_region = data_handler.add_monthly_financial_info(sales_df = sales_bus_region,\n",
    "                                                                   region = region)\n",
    "\n",
    "        ts_handler = ts_utils.TimeSeriesHandler(name = full_name,\n",
    "                                                df = sales_bus_region,\n",
    "                                                # endog = 'sales_value')\n",
    "                                                endog = 'sales_value', exog = exog_features)\n",
    "        # if len(ts_handler.test) < 5:\n",
    "        #     print('TEST NOT FULL ' + full_name)\n",
    "        #     print(len(ts_handler.test))\n",
    "\n",
    "        exog_forecast = pd.DataFrame()\n",
    "        for exog in ts_handler.exog:\n",
    "            # print(exog)\n",
    "            exog_name = f'exog_{exog}'\n",
    "            exog_ts_handler = ts_utils.TimeSeriesHandler(name = exog_name,\n",
    "                                                         df = sales_bus_region,\n",
    "                                                         endog = exog,\n",
    "                                                         exog = None)\n",
    "            # if len(exog_ts_handler.test) < 5:\n",
    "            #     print('TEST NOT FULL '+ full_name + ' ' + exog_name)\n",
    "            #     print(len(exog_ts_handler.test))\n",
    "            exog_ts_handler.determine_orders()\n",
    "            exog_ts_handler.fit_sarimax_exog(plot = False if all_models else True)\n",
    "            exog_forecast[exog] = exog_ts_handler.forecast\n",
    "\n",
    "        ts_handler.set_exog_forecast(exog_forecast)\n",
    "\n",
    "        ts_handler.determine_orders()\n",
    "\n",
    "        ts_handler.fit_sarimax(name = full_name,\n",
    "                               plot_fit = True,\n",
    "                               plot_prediction = True,\n",
    "                               rolling_prediction = True,\n",
    "                               plot_rolling = True)\n",
    "        \n",
    "        \n",
    "        if all_models: break\n",
    "    if all_models: break\n"
   ],
   "metadata": {
    "collapsed": false,
    "ExecuteTime": {
     "end_time": "2024-02-03T19:41:42.152145300Z",
     "start_time": "2024-02-03T19:41:38.228944300Z"
    }
   },
   "id": "36889feac8f095e8"
  },
  {
   "cell_type": "code",
   "execution_count": null,
   "outputs": [],
   "source": [],
   "metadata": {
    "collapsed": false
   },
   "id": "5db35bf2f4ed5795"
  }
 ],
 "metadata": {
  "kernelspec": {
   "display_name": "Python 3",
   "language": "python",
   "name": "python3"
  },
  "language_info": {
   "codemirror_mode": {
    "name": "ipython",
    "version": 2
   },
   "file_extension": ".py",
   "mimetype": "text/x-python",
   "name": "python",
   "nbconvert_exporter": "python",
   "pygments_lexer": "ipython2",
   "version": "2.7.6"
  }
 },
 "nbformat": 4,
 "nbformat_minor": 5
}
