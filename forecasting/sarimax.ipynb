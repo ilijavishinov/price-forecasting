{
 "cells": [
  {
   "cell_type": "code",
   "execution_count": 1,
   "id": "initial_id",
   "metadata": {
    "collapsed": true,
    "ExecuteTime": {
     "end_time": "2024-02-06T22:21:57.371570100Z",
     "start_time": "2024-02-06T22:21:53.274473Z"
    }
   },
   "outputs": [
    {
     "name": "stderr",
     "output_type": "stream",
     "text": [
      "C:\\Users\\ilija\\AppData\\Local\\Temp\\ipykernel_14064\\3674165254.py:1: DeprecationWarning: \n",
      "Pyarrow will become a required dependency of pandas in the next major release of pandas (pandas 3.0),\n",
      "(to allow more performant data types, such as the Arrow string type, and better interoperability with other libraries)\n",
      "but was not found to be installed on your system.\n",
      "If this would cause problems for you,\n",
      "please provide us feedback at https://github.com/pandas-dev/pandas/issues/54466\n",
      "        \n",
      "  import pandas as pd\n"
     ]
    }
   ],
   "source": [
    "import pandas as pd\n",
    "from utils import io\n",
    "from utils import ts_utils\n",
    "import importlib\n",
    "import matplotlib.pyplot as plt\n",
    "import numpy as np\n",
    "import pandas as pd\n",
    "from numpy import sqrt\n",
    "from sklearn.metrics import mean_squared_error\n",
    "from statsmodels.tsa.arima.model import ARIMA\n",
    "from statsmodels.tsa.seasonal import STL\n",
    "from statsmodels.tsa.statespace.sarimax import SARIMAX\n",
    "from statsmodels.tsa.stattools import acf\n",
    "from statsmodels.tsa.stattools import adfuller, pacf\n",
    "\n",
    "get_ipython().run_line_magic('matplotlib', 'inline')\n",
    "import warnings\n",
    "warnings.filterwarnings('ignore')\n",
    "\n"
   ]
  },
  {
   "cell_type": "code",
   "execution_count": 6,
   "outputs": [
    {
     "name": "stdout",
     "output_type": "stream",
     "text": [
      "EQ 0\n",
      "EQ 2\n",
      "EQ 4\n",
      "EQ 10\n",
      "EQ 13\n",
      "EQ 33\n",
      "EQ 56\n",
      "Consumables 0\n",
      "Consumables 2\n"
     ]
    },
    {
     "name": "stderr",
     "output_type": "stream",
     "text": [
      "\n",
      "KeyboardInterrupt\n",
      "\n"
     ]
    },
    {
     "name": "stdout",
     "output_type": "stream",
     "text": [
      "Error in callback <function flush_figures at 0x000002184EC95580> (for post_execute), with arguments args (),kwargs {}:\n"
     ]
    },
    {
     "name": "stderr",
     "output_type": "stream",
     "text": [
      "\n",
      "KeyboardInterrupt\n",
      "\n"
     ]
    }
   ],
   "source": [
    "importlib.reload(io)\n",
    "importlib.reload(ts_utils)\n",
    "data_handler = io.DataHandler(data_path = '../data')\n",
    "\n",
    "bs_areas = data_handler.get_bussines_areas()\n",
    "# bs_areas = ['EQ']\n",
    "# bs_areas = ['Consumables']\n",
    "\n",
    "regions = data_handler.get_regions()\n",
    "# regions = [33]\n",
    "# regions = [56]\n",
    "\n",
    "exog_features = [\n",
    "    'MGDP_Index',\n",
    "    'EBIT_Index',\n",
    "    'Revenue_Index',\n",
    "    'fleet1',\n",
    "    'fleet2',\n",
    "    'fleet3',\n",
    "    'Copper',\n",
    "    'Gold',\n",
    "    'Iron Ore',\n",
    "    'Nickel',\n",
    "    'Silver',\n",
    "    'Zinc',\n",
    "]\n",
    "\n",
    "# manual_orders = {\n",
    "#     ('EQ', 0): (,0,),\n",
    "#     ('EQ', 2): (,0,),\n",
    "#     ('EQ', 4): (,0,),\n",
    "#     ('EQ', 10): (,0,),\n",
    "#     ('EQ', 13): (,0,),\n",
    "#     ('EQ', 33): (,0,),\n",
    "#     ('EQ', 56): (,0,),\n",
    "#     ('Service', 0): (,0,),\n",
    "#     ('Service', 2): (,0,),\n",
    "#     ('Service', 4): (,0,),\n",
    "#     ('Service', 10): (,0,),\n",
    "#     ('Service', 13): (,0,),\n",
    "#     ('Service', 33): (,0,),\n",
    "#     ('Service', 56): (,0,),\n",
    "#     ('Consumables', 0): (,0,),\n",
    "#     ('Consumables', 2): (,0,),\n",
    "#     ('Consumables', 4): (,0,),\n",
    "#     ('Consumables', 10): (,0,),\n",
    "#     ('Consumables', 13): (,0,),\n",
    "#     ('Consumables', 33): (,0,),\n",
    "# }\n",
    "\n",
    "all_models = True\n",
    "\n",
    "for bs_area in bs_areas:\n",
    "    for region in regions: \n",
    "        \n",
    "        if bs_area == 'Consumables' and region == 56:\n",
    "            continue\n",
    "        \n",
    "        name = f'{bs_area}_{region}'\n",
    "        full_name = f'{bs_area} {region}'\n",
    "        \n",
    "        print(full_name)\n",
    "\n",
    "        sales_bus_region = data_handler.get_sales_per_business_area_and_region(business_area = bs_area,\n",
    "                                                                               region = region)\n",
    "        \n",
    "        sales_bus_region = data_handler.add_monthly_financial_info(sales_df = sales_bus_region,\n",
    "                                                                   region = region)\n",
    "\n",
    "        ts_handler = ts_utils.TimeSeriesHandler(name = name,\n",
    "                                                df = sales_bus_region,\n",
    "                                                endog = 'sales_value')\n",
    "                                                # endog = 'sales_value', exog = exog_features)\n",
    "        \n",
    "        # if len(ts_handler.test) < 5:\n",
    "        #     print('TEST NOT FULL ' + full_name)\n",
    "        #     print(len(ts_handler.test))\n",
    "\n",
    "        # exog_forecast = pd.DataFrame()\n",
    "        # for exog in ts_handler.exog:\n",
    "        #     # print(exog)\n",
    "        #     exog_name = f'{name}_exog_{exog}'\n",
    "        #     exog_ts_handler = ts_utils.TimeSeriesHandler(name = exog_name,\n",
    "        #                                                  df = sales_bus_region,\n",
    "        #                                                  endog = exog,\n",
    "        #                                                  exog = None)\n",
    "        #     # if len(exog_ts_handler.test) < 5:\n",
    "        #     #     print('TEST NOT FULL '+ full_name + ' ' + exog_name)\n",
    "        #     #     print(len(exog_ts_handler.test))\n",
    "        #     exog_ts_handler.determine_orders()\n",
    "        #     exog_ts_handler.fit_sarimax_exog(plot = False if all_models else True)\n",
    "        #     exog_forecast[exog] = exog_ts_handler.forecast\n",
    "        \n",
    "        # ts_handler.plot_acf_pacf()\n",
    "        \n",
    "        # ts_handler.set_exog_forecast(exog_forecast)\n",
    "\n",
    "        ts_handler.determine_orders()\n",
    "        \n",
    "        ts_handler.fit_sarimax(plot_fit = True,\n",
    "                               all_orders = True,\n",
    "                               plot_prediction = True,\n",
    "                               plot_rolling = True)\n",
    "        \n",
    "        \n",
    "        if not all_models: break\n",
    "    if not all_models: break\n"
   ],
   "metadata": {
    "collapsed": false,
    "ExecuteTime": {
     "end_time": "2024-02-06T22:28:01.417126900Z",
     "start_time": "2024-02-06T22:26:27.872866600Z"
    }
   },
   "id": "36889feac8f095e8"
  },
  {
   "cell_type": "code",
   "execution_count": null,
   "outputs": [],
   "source": [],
   "metadata": {
    "collapsed": false
   },
   "id": "5db35bf2f4ed5795"
  }
 ],
 "metadata": {
  "kernelspec": {
   "display_name": "Python 3",
   "language": "python",
   "name": "python3"
  },
  "language_info": {
   "codemirror_mode": {
    "name": "ipython",
    "version": 2
   },
   "file_extension": ".py",
   "mimetype": "text/x-python",
   "name": "python",
   "nbconvert_exporter": "python",
   "pygments_lexer": "ipython2",
   "version": "2.7.6"
  }
 },
 "nbformat": 4,
 "nbformat_minor": 5
}
