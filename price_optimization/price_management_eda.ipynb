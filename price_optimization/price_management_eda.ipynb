{
 "cells": [
  {
   "cell_type": "code",
   "execution_count": 112,
   "outputs": [],
   "source": [
    "%reset"
   ],
   "metadata": {
    "collapsed": false,
    "ExecuteTime": {
     "end_time": "2024-02-06T17:11:14.463583600Z",
     "start_time": "2024-02-06T17:11:11.766847300Z"
    }
   },
   "id": "c8537918de38af25"
  },
  {
   "cell_type": "code",
   "execution_count": 113,
   "id": "333f9bf58e38f029",
   "metadata": {
    "collapsed": true,
    "ExecuteTime": {
     "end_time": "2024-02-06T17:11:14.479648800Z",
     "start_time": "2024-02-06T17:11:14.450565800Z"
    }
   },
   "outputs": [],
   "source": [
    "import pandas as pd\n",
    "import importlib\n",
    "from utils import price_opt_utils\n",
    "importlib.reload(price_opt_utils)\n"
   ]
  },
  {
   "cell_type": "code",
   "execution_count": 133,
   "outputs": [],
   "source": [
    "product = 'drill'\n",
    "# product = 'loader'\n",
    "\n",
    "y_name = 'Standard Cost'\n",
    "kwarg_product = dict(product = product)"
   ],
   "metadata": {
    "collapsed": false,
    "ExecuteTime": {
     "end_time": "2024-02-06T17:16:27.842561400Z",
     "start_time": "2024-02-06T17:16:27.836735Z"
    }
   },
   "id": "initial_id"
  },
  {
   "cell_type": "code",
   "execution_count": 134,
   "outputs": [],
   "source": [
    "X, y, relevant = price_opt_utils.get_x_y_relevant_dfs(**kwarg_product, y_name = y_name)"
   ],
   "metadata": {
    "collapsed": false,
    "ExecuteTime": {
     "end_time": "2024-02-06T17:16:28.286226Z",
     "start_time": "2024-02-06T17:16:28.241453400Z"
    }
   },
   "id": "a7fa52087c00bfe"
  },
  {
   "cell_type": "code",
   "execution_count": 117,
   "outputs": [],
   "source": [
    "price_opt_utils.sweetviz_analysis(df = relevant, **kwarg_product)"
   ],
   "metadata": {
    "collapsed": false,
    "ExecuteTime": {
     "end_time": "2024-02-06T17:11:14.563774700Z",
     "start_time": "2024-02-06T17:11:14.517784Z"
    }
   },
   "id": "35c42eec3106c340"
  },
  {
   "cell_type": "code",
   "execution_count": 118,
   "outputs": [],
   "source": [
    "price_opt_utils.pairplot(df = relevant, **kwarg_product)"
   ],
   "metadata": {
    "collapsed": false,
    "ExecuteTime": {
     "end_time": "2024-02-06T17:11:14.564776600Z",
     "start_time": "2024-02-06T17:11:14.523785500Z"
    }
   },
   "id": "5a04d1da274e2f69"
  },
  {
   "cell_type": "code",
   "execution_count": 119,
   "outputs": [],
   "source": [
    "price_opt_utils.corrmatrix(relevant, **kwarg_product)"
   ],
   "metadata": {
    "collapsed": false,
    "ExecuteTime": {
     "end_time": "2024-02-06T17:11:14.564776600Z",
     "start_time": "2024-02-06T17:11:14.533520900Z"
    }
   },
   "id": "d67250ffb5ae4fa5"
  },
  {
   "cell_type": "code",
   "execution_count": 120,
   "outputs": [],
   "source": [
    "price_opt_utils.corrmatrix_scaled(relevant, product)"
   ],
   "metadata": {
    "collapsed": false,
    "ExecuteTime": {
     "end_time": "2024-02-06T17:11:14.566777500Z",
     "start_time": "2024-02-06T17:11:14.540733400Z"
    }
   },
   "id": "c793b1ea68cd4a26"
  }
 ],
 "metadata": {
  "kernelspec": {
   "display_name": "Python 3",
   "language": "python",
   "name": "python3"
  },
  "language_info": {
   "codemirror_mode": {
    "name": "ipython",
    "version": 2
   },
   "file_extension": ".py",
   "mimetype": "text/x-python",
   "name": "python",
   "nbconvert_exporter": "python",
   "pygments_lexer": "ipython2",
   "version": "2.7.6"
  }
 },
 "nbformat": 4,
 "nbformat_minor": 5
}
