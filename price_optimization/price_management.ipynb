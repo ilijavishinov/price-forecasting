{
 "cells": [
  {
   "cell_type": "code",
   "execution_count": 33,
   "outputs": [],
   "source": [
    "%reset"
   ],
   "metadata": {
    "collapsed": false,
    "ExecuteTime": {
     "end_time": "2024-02-08T19:39:45.521353Z",
     "start_time": "2024-02-08T19:39:43.167753600Z"
    }
   },
   "id": "c8537918de38af25"
  },
  {
   "cell_type": "code",
   "execution_count": 20,
   "id": "333f9bf58e38f029",
   "metadata": {
    "collapsed": true,
    "ExecuteTime": {
     "end_time": "2024-02-09T11:34:45.610221900Z",
     "start_time": "2024-02-09T11:34:45.461792Z"
    }
   },
   "outputs": [],
   "source": [
    "import pandas as pd\n",
    "import importlib\n",
    "from utils import price_opt_utils\n",
    "from sklearn.linear_model import LinearRegression\n",
    "from sklearn.preprocessing import StandardScaler\n"
   ]
  },
  {
   "cell_type": "code",
   "execution_count": 33,
   "outputs": [],
   "source": [
    "product = 'loader'\n",
    "y_name = 'Standard Cost'\n",
    "kwarg_product = dict(product = product)"
   ],
   "metadata": {
    "collapsed": false,
    "ExecuteTime": {
     "end_time": "2024-02-09T14:20:05.275325100Z",
     "start_time": "2024-02-09T14:20:05.262164300Z"
    }
   },
   "id": "initial_id"
  },
  {
   "cell_type": "code",
   "execution_count": 34,
   "outputs": [],
   "source": [
    "X, y, relevant = price_opt_utils.get_x_y_relevant_dfs(**kwarg_product, y_name = y_name)"
   ],
   "metadata": {
    "collapsed": false,
    "ExecuteTime": {
     "end_time": "2024-02-09T14:20:05.937576600Z",
     "start_time": "2024-02-09T14:20:05.492479600Z"
    }
   },
   "id": "a7fa52087c00bfe"
  },
  {
   "cell_type": "code",
   "execution_count": 35,
   "outputs": [],
   "source": [
    "# model = LinearRegression().fit(X, y)"
   ],
   "metadata": {
    "collapsed": false,
    "ExecuteTime": {
     "end_time": "2024-02-09T14:20:05.943575200Z",
     "start_time": "2024-02-09T14:20:05.933509900Z"
    }
   },
   "id": "6890a85a36fe17a"
  },
  {
   "cell_type": "code",
   "execution_count": 38,
   "outputs": [
    {
     "name": "stdout",
     "output_type": "stream",
     "text": [
      "                 feature          VIF\n",
      "0  Bucket volume std, m3   406.887220\n",
      "1   Tramming Capacity, t  9040.580384\n",
      "2    Weight Operating, t  7617.784568\n",
      "3          Tilt force, t  3158.564302\n",
      "4       Engine power, kW   387.784094\n",
      "5          Lift force, t  2109.400746\n"
     ]
    },
    {
     "ename": "KeyError",
     "evalue": "1",
     "output_type": "error",
     "traceback": [
      "\u001B[1;31m---------------------------------------------------------------------------\u001B[0m",
      "\u001B[1;31mKeyError\u001B[0m                                  Traceback (most recent call last)",
      "File \u001B[1;32mD:\\python_projects\\ignize_final\\venv\\Lib\\site-packages\\pandas\\core\\indexes\\base.py:3802\u001B[0m, in \u001B[0;36mIndex.get_loc\u001B[1;34m(self, key)\u001B[0m\n\u001B[0;32m   3801\u001B[0m \u001B[38;5;28;01mtry\u001B[39;00m:\n\u001B[1;32m-> 3802\u001B[0m     \u001B[38;5;28;01mreturn\u001B[39;00m \u001B[38;5;28;43mself\u001B[39;49m\u001B[38;5;241;43m.\u001B[39;49m\u001B[43m_engine\u001B[49m\u001B[38;5;241;43m.\u001B[39;49m\u001B[43mget_loc\u001B[49m\u001B[43m(\u001B[49m\u001B[43mcasted_key\u001B[49m\u001B[43m)\u001B[49m\n\u001B[0;32m   3803\u001B[0m \u001B[38;5;28;01mexcept\u001B[39;00m \u001B[38;5;167;01mKeyError\u001B[39;00m \u001B[38;5;28;01mas\u001B[39;00m err:\n",
      "File \u001B[1;32mindex.pyx:153\u001B[0m, in \u001B[0;36mpandas._libs.index.IndexEngine.get_loc\u001B[1;34m()\u001B[0m\n",
      "File \u001B[1;32mindex.pyx:182\u001B[0m, in \u001B[0;36mpandas._libs.index.IndexEngine.get_loc\u001B[1;34m()\u001B[0m\n",
      "File \u001B[1;32mpandas\\\\_libs\\\\hashtable_class_helper.pxi:7081\u001B[0m, in \u001B[0;36mpandas._libs.hashtable.PyObjectHashTable.get_item\u001B[1;34m()\u001B[0m\n",
      "File \u001B[1;32mpandas\\\\_libs\\\\hashtable_class_helper.pxi:7089\u001B[0m, in \u001B[0;36mpandas._libs.hashtable.PyObjectHashTable.get_item\u001B[1;34m()\u001B[0m\n",
      "\u001B[1;31mKeyError\u001B[0m: 1",
      "\nThe above exception was the direct cause of the following exception:\n",
      "\u001B[1;31mKeyError\u001B[0m                                  Traceback (most recent call last)",
      "Cell \u001B[1;32mIn[38], line 5\u001B[0m\n\u001B[0;32m      3\u001B[0m feature_selection_df_all \u001B[38;5;241m=\u001B[39m \u001B[38;5;28mlist\u001B[39m()\n\u001B[0;32m      4\u001B[0m \u001B[38;5;66;03m# for selected_features in price_opt_utils.all_possible_feature_combinations(X):\u001B[39;00m\n\u001B[1;32m----> 5\u001B[0m \u001B[38;5;28;01mfor\u001B[39;00m selected_features \u001B[38;5;129;01min\u001B[39;00m \u001B[43mprice_opt_utils\u001B[49m\u001B[38;5;241;43m.\u001B[39;49m\u001B[43miterative_selectiono_vif_ordered_features\u001B[49m\u001B[43m(\u001B[49m\u001B[43mX\u001B[49m\u001B[43m)\u001B[49m:\n\u001B[0;32m      7\u001B[0m     X_selected \u001B[38;5;241m=\u001B[39m X[selected_features]\n\u001B[0;32m      9\u001B[0m     \u001B[38;5;66;03m# scaler = StandardScaler()\u001B[39;00m\n\u001B[0;32m     10\u001B[0m     \u001B[38;5;66;03m# X_selected = pd.DataFrame(scaler.fit_transform(X_selected), columns = X_selected.columns)\u001B[39;00m\n\u001B[0;32m     11\u001B[0m     \u001B[38;5;66;03m# X_selected = X_selected.apply(lambda x: x-x.mean())\u001B[39;00m\n\u001B[0;32m     12\u001B[0m     \u001B[38;5;66;03m# y = y - y.mean()\u001B[39;00m\n",
      "File \u001B[1;32mD:\\python_projects\\ignize_final\\utils\\price_opt_utils.py:147\u001B[0m, in \u001B[0;36miterative_selectiono_vif_ordered_features\u001B[1;34m(x)\u001B[0m\n\u001B[0;32m    145\u001B[0m     \u001B[38;5;28mprint\u001B[39m(vif_df)\n\u001B[0;32m    146\u001B[0m     \u001B[38;5;66;03m# TODO: wrong selection of vif max feature\u001B[39;00m\n\u001B[1;32m--> 147\u001B[0m     x\u001B[38;5;241m.\u001B[39mdrop(\u001B[43mvif_df\u001B[49m\u001B[43m[\u001B[49m\u001B[43mvif_df\u001B[49m\u001B[43m[\u001B[49m\u001B[38;5;124;43m'\u001B[39;49m\u001B[38;5;124;43mVIF\u001B[39;49m\u001B[38;5;124;43m'\u001B[39;49m\u001B[43m]\u001B[49m\u001B[38;5;241;43m.\u001B[39;49m\u001B[43midxmax\u001B[49m\u001B[43m(\u001B[49m\u001B[43m)\u001B[49m\u001B[43m]\u001B[49m[\u001B[38;5;124m'\u001B[39m\u001B[38;5;124mfeature\u001B[39m\u001B[38;5;124m'\u001B[39m], axis \u001B[38;5;241m=\u001B[39m \u001B[38;5;241m1\u001B[39m, inplace \u001B[38;5;241m=\u001B[39m \u001B[38;5;28;01mTrue\u001B[39;00m)\n\u001B[0;32m    148\u001B[0m     iterative_selected_features\u001B[38;5;241m.\u001B[39mappend(x\u001B[38;5;241m.\u001B[39mcolumns\u001B[38;5;241m.\u001B[39mtolist())\n\u001B[0;32m    150\u001B[0m \u001B[38;5;28;01mreturn\u001B[39;00m iterative_selected_features\n",
      "File \u001B[1;32mD:\\python_projects\\ignize_final\\venv\\Lib\\site-packages\\pandas\\core\\frame.py:4090\u001B[0m, in \u001B[0;36mDataFrame.__getitem__\u001B[1;34m(self, key)\u001B[0m\n\u001B[0;32m   4088\u001B[0m \u001B[38;5;28;01mif\u001B[39;00m \u001B[38;5;28mself\u001B[39m\u001B[38;5;241m.\u001B[39mcolumns\u001B[38;5;241m.\u001B[39mnlevels \u001B[38;5;241m>\u001B[39m \u001B[38;5;241m1\u001B[39m:\n\u001B[0;32m   4089\u001B[0m     \u001B[38;5;28;01mreturn\u001B[39;00m \u001B[38;5;28mself\u001B[39m\u001B[38;5;241m.\u001B[39m_getitem_multilevel(key)\n\u001B[1;32m-> 4090\u001B[0m indexer \u001B[38;5;241m=\u001B[39m \u001B[38;5;28;43mself\u001B[39;49m\u001B[38;5;241;43m.\u001B[39;49m\u001B[43mcolumns\u001B[49m\u001B[38;5;241;43m.\u001B[39;49m\u001B[43mget_loc\u001B[49m\u001B[43m(\u001B[49m\u001B[43mkey\u001B[49m\u001B[43m)\u001B[49m\n\u001B[0;32m   4091\u001B[0m \u001B[38;5;28;01mif\u001B[39;00m is_integer(indexer):\n\u001B[0;32m   4092\u001B[0m     indexer \u001B[38;5;241m=\u001B[39m [indexer]\n",
      "File \u001B[1;32mD:\\python_projects\\ignize_final\\venv\\Lib\\site-packages\\pandas\\core\\indexes\\base.py:3809\u001B[0m, in \u001B[0;36mIndex.get_loc\u001B[1;34m(self, key)\u001B[0m\n\u001B[0;32m   3804\u001B[0m     \u001B[38;5;28;01mif\u001B[39;00m \u001B[38;5;28misinstance\u001B[39m(casted_key, \u001B[38;5;28mslice\u001B[39m) \u001B[38;5;129;01mor\u001B[39;00m (\n\u001B[0;32m   3805\u001B[0m         \u001B[38;5;28misinstance\u001B[39m(casted_key, abc\u001B[38;5;241m.\u001B[39mIterable)\n\u001B[0;32m   3806\u001B[0m         \u001B[38;5;129;01mand\u001B[39;00m \u001B[38;5;28many\u001B[39m(\u001B[38;5;28misinstance\u001B[39m(x, \u001B[38;5;28mslice\u001B[39m) \u001B[38;5;28;01mfor\u001B[39;00m x \u001B[38;5;129;01min\u001B[39;00m casted_key)\n\u001B[0;32m   3807\u001B[0m     ):\n\u001B[0;32m   3808\u001B[0m         \u001B[38;5;28;01mraise\u001B[39;00m InvalidIndexError(key)\n\u001B[1;32m-> 3809\u001B[0m     \u001B[38;5;28;01mraise\u001B[39;00m \u001B[38;5;167;01mKeyError\u001B[39;00m(key) \u001B[38;5;28;01mfrom\u001B[39;00m \u001B[38;5;21;01merr\u001B[39;00m\n\u001B[0;32m   3810\u001B[0m \u001B[38;5;28;01mexcept\u001B[39;00m \u001B[38;5;167;01mTypeError\u001B[39;00m:\n\u001B[0;32m   3811\u001B[0m     \u001B[38;5;66;03m# If we have a listlike key, _check_indexing_error will raise\u001B[39;00m\n\u001B[0;32m   3812\u001B[0m     \u001B[38;5;66;03m#  InvalidIndexError. Otherwise we fall through and re-raise\u001B[39;00m\n\u001B[0;32m   3813\u001B[0m     \u001B[38;5;66;03m#  the TypeError.\u001B[39;00m\n\u001B[0;32m   3814\u001B[0m     \u001B[38;5;28mself\u001B[39m\u001B[38;5;241m.\u001B[39m_check_indexing_error(key)\n",
      "\u001B[1;31mKeyError\u001B[0m: 1"
     ]
    }
   ],
   "source": [
    "importlib.reload(price_opt_utils)\n",
    "\n",
    "feature_selection_df_all = list()\n",
    "# for selected_features in price_opt_utils.all_possible_feature_combinations(X):\n",
    "for selected_features in price_opt_utils.iterative_selectiono_vif_ordered_features(X):\n",
    "    \n",
    "    X_selected = X[selected_features]\n",
    "    \n",
    "    # scaler = StandardScaler()\n",
    "    # X_selected = pd.DataFrame(scaler.fit_transform(X_selected), columns = X_selected.columns)\n",
    "    # X_selected = X_selected.apply(lambda x: x-x.mean())\n",
    "    # y = y - y.mean()\n",
    "    \n",
    "    model = LinearRegression(fit_intercept = True).fit(X_selected, y)\n",
    "    coefs = price_opt_utils.linear_regression_coefficients(model, X_selected.columns.tolist())\n",
    "    \n",
    "    formula = price_opt_utils.linear_regression_formula(model, X_selected.columns.tolist(), y_name = y_name)\n",
    "    # print(formula)\n",
    "    \n",
    "    y_pred = model.predict(X_selected)\n",
    "    results = price_opt_utils.regression_metrics(y, y_pred)\n",
    "    # print(results)\n",
    "    \n",
    "    feature_selection_df_all.append(dict(selected_features = selected_features, \n",
    "                                          **results, formula = formula))\n",
    "    \n",
    "feature_selection_df_all = pd.DataFrame(feature_selection_df_all)"
   ],
   "metadata": {
    "collapsed": false,
    "ExecuteTime": {
     "end_time": "2024-02-09T14:25:01.691440200Z",
     "start_time": "2024-02-09T14:25:00.657902900Z"
    }
   },
   "id": "3b53c7975f34dda5"
  },
  {
   "cell_type": "code",
   "execution_count": 37,
   "outputs": [
    {
     "data": {
      "text/plain": "'Standard Cost = 27995 + 22569 Tramming Capacity, t - 5019 Weight Operating, t - 55 Engine power, kW + 1112 Lift force,'"
     },
     "execution_count": 37,
     "metadata": {},
     "output_type": "execute_result"
    }
   ],
   "source": [
    "feature_selection_df_all.loc[feature_selection_df_all['mape'].idxmin()]['formula']"
   ],
   "metadata": {
    "collapsed": false,
    "ExecuteTime": {
     "end_time": "2024-02-09T14:20:08.915281800Z",
     "start_time": "2024-02-09T14:20:08.866274300Z"
    }
   },
   "id": "4f8667fa5545ccd8"
  },
  {
   "cell_type": "markdown",
   "source": [
    "#### Standard Cost = -115020 - 1867 Hole diameter min, mm + 4015 Hole diameter max, mm + 4093 Flushing air, m3/min - 4082 Percussion power std, "
   ],
   "metadata": {
    "collapsed": false
   },
   "id": "4ff1cea5c645ddc"
  },
  {
   "cell_type": "markdown",
   "source": [
    "#### Standard Cost = 27995 + 22569 Tramming Capacity, t - 5019 Weight Operating, t - 55 Engine power, kW + 1112 Lift force,"
   ],
   "metadata": {
    "collapsed": false
   },
   "id": "58aacd4b54f6ab03"
  },
  {
   "cell_type": "code",
   "execution_count": null,
   "outputs": [],
   "source": [],
   "metadata": {
    "collapsed": false
   },
   "id": "61c9bfbb9be0cdd6"
  }
 ],
 "metadata": {
  "kernelspec": {
   "display_name": "Python 3",
   "language": "python",
   "name": "python3"
  },
  "language_info": {
   "codemirror_mode": {
    "name": "ipython",
    "version": 2
   },
   "file_extension": ".py",
   "mimetype": "text/x-python",
   "name": "python",
   "nbconvert_exporter": "python",
   "pygments_lexer": "ipython2",
   "version": "2.7.6"
  }
 },
 "nbformat": 4,
 "nbformat_minor": 5
}
